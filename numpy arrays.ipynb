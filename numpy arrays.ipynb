{
 "cells": [
  {
   "cell_type": "code",
   "execution_count": 31,
   "id": "84b3d389",
   "metadata": {},
   "outputs": [],
   "source": [
    "import numpy as np\n",
    "from numpy import eye, array, arange, zeros, ones, linspace\n",
    "from numpy.random import rand, randint, randn"
   ]
  },
  {
   "cell_type": "code",
   "execution_count": 3,
   "id": "6e1ec0d0",
   "metadata": {},
   "outputs": [],
   "source": [
    "arr = np.array([1,2,3,4])"
   ]
  },
  {
   "cell_type": "code",
   "execution_count": 4,
   "id": "e48316ee",
   "metadata": {},
   "outputs": [
    {
     "data": {
      "text/plain": [
       "array([1, 2, 3, 4])"
      ]
     },
     "execution_count": 4,
     "metadata": {},
     "output_type": "execute_result"
    }
   ],
   "source": [
    "arr"
   ]
  },
  {
   "cell_type": "code",
   "execution_count": 8,
   "id": "89bf0f64",
   "metadata": {},
   "outputs": [],
   "source": [
    "my_list = [1,2,3]"
   ]
  },
  {
   "cell_type": "code",
   "execution_count": 9,
   "id": "483417fc",
   "metadata": {},
   "outputs": [
    {
     "data": {
      "text/plain": [
       "array([1, 2, 3])"
      ]
     },
     "execution_count": 9,
     "metadata": {},
     "output_type": "execute_result"
    }
   ],
   "source": [
    "arr = np.array(my_list)\n",
    "arr"
   ]
  },
  {
   "cell_type": "code",
   "execution_count": 11,
   "id": "610f33cd",
   "metadata": {},
   "outputs": [],
   "source": [
    "my_mat = [[1,2,3],[4,5,6],[7,8,9]]"
   ]
  },
  {
   "cell_type": "code",
   "execution_count": 29,
   "id": "f0f2e2a9",
   "metadata": {},
   "outputs": [
    {
     "data": {
      "text/plain": [
       "array([[1, 2, 3],\n",
       "       [4, 5, 6],\n",
       "       [7, 8, 9]])"
      ]
     },
     "execution_count": 29,
     "metadata": {},
     "output_type": "execute_result"
    }
   ],
   "source": [
    "array(my_mat)"
   ]
  },
  {
   "cell_type": "code",
   "execution_count": 15,
   "id": "5ac8a890",
   "metadata": {},
   "outputs": [
    {
     "data": {
      "text/plain": [
       "array([ 0,  2,  4,  6,  8, 10, 12, 14, 16, 18])"
      ]
     },
     "execution_count": 15,
     "metadata": {},
     "output_type": "execute_result"
    }
   ],
   "source": [
    "arange(0,20,2)"
   ]
  },
  {
   "cell_type": "code",
   "execution_count": 19,
   "id": "c9510123",
   "metadata": {},
   "outputs": [
    {
     "data": {
      "text/plain": [
       "array([[0., 0., 0., 0., 0., 0., 0., 0.],\n",
       "       [0., 0., 0., 0., 0., 0., 0., 0.],\n",
       "       [0., 0., 0., 0., 0., 0., 0., 0.],\n",
       "       [0., 0., 0., 0., 0., 0., 0., 0.],\n",
       "       [0., 0., 0., 0., 0., 0., 0., 0.]])"
      ]
     },
     "execution_count": 19,
     "metadata": {},
     "output_type": "execute_result"
    }
   ],
   "source": [
    "zeros((5,8))"
   ]
  },
  {
   "cell_type": "code",
   "execution_count": 18,
   "id": "7ad5da46",
   "metadata": {},
   "outputs": [
    {
     "data": {
      "text/plain": [
       "array([1., 1., 1., 1., 1., 1., 1., 1., 1., 1.])"
      ]
     },
     "execution_count": 18,
     "metadata": {},
     "output_type": "execute_result"
    }
   ],
   "source": [
    "ones(10)"
   ]
  },
  {
   "cell_type": "code",
   "execution_count": 20,
   "id": "ff94e745",
   "metadata": {},
   "outputs": [
    {
     "data": {
      "text/plain": [
       "array([ 0.        ,  1.11111111,  2.22222222,  3.33333333,  4.44444444,\n",
       "        5.55555556,  6.66666667,  7.77777778,  8.88888889, 10.        ])"
      ]
     },
     "execution_count": 20,
     "metadata": {},
     "output_type": "execute_result"
    }
   ],
   "source": [
    "linspace(0,10,10)"
   ]
  },
  {
   "cell_type": "code",
   "execution_count": 30,
   "id": "b34a2132",
   "metadata": {},
   "outputs": [
    {
     "data": {
      "text/plain": [
       "array([[1., 0., 0., 0., 0.],\n",
       "       [0., 1., 0., 0., 0.],\n",
       "       [0., 0., 1., 0., 0.],\n",
       "       [0., 0., 0., 1., 0.],\n",
       "       [0., 0., 0., 0., 1.]])"
      ]
     },
     "execution_count": 30,
     "metadata": {},
     "output_type": "execute_result"
    }
   ],
   "source": [
    "eye(5)"
   ]
  },
  {
   "cell_type": "code",
   "execution_count": 26,
   "id": "1b7c5c54",
   "metadata": {},
   "outputs": [
    {
     "data": {
      "text/plain": [
       "array([0.34433985, 0.18575464, 0.01433644])"
      ]
     },
     "execution_count": 26,
     "metadata": {},
     "output_type": "execute_result"
    }
   ],
   "source": [
    "rand(3)"
   ]
  },
  {
   "cell_type": "code",
   "execution_count": 34,
   "id": "6cf24ef3",
   "metadata": {},
   "outputs": [
    {
     "data": {
      "text/plain": [
       "array([-0.23121976, -0.9784897 , -0.45392132, -1.2701887 , -0.41745964,\n",
       "       -1.58914685])"
      ]
     },
     "execution_count": 34,
     "metadata": {},
     "output_type": "execute_result"
    }
   ],
   "source": [
    "randn(6)"
   ]
  },
  {
   "cell_type": "code",
   "execution_count": 36,
   "id": "e86a6eaa",
   "metadata": {},
   "outputs": [
    {
     "data": {
      "text/plain": [
       "array([[ 0.480668  ,  1.23721706, -1.64276779,  2.47531459,  0.1098282 ],\n",
       "       [ 0.74798873, -0.64253696, -2.0935711 , -0.20267243, -1.10509112],\n",
       "       [ 0.51506637,  0.25059117,  2.38726339, -0.33167313,  0.21077234],\n",
       "       [-1.30902377, -1.40774678, -1.57973518,  0.38584241, -0.80394718],\n",
       "       [-0.52957125,  0.18322386,  0.80879733,  1.9393393 , -2.06871284]])"
      ]
     },
     "execution_count": 36,
     "metadata": {},
     "output_type": "execute_result"
    }
   ],
   "source": [
    "randn(5,5)"
   ]
  },
  {
   "cell_type": "code",
   "execution_count": 37,
   "id": "295bc978",
   "metadata": {},
   "outputs": [
    {
     "data": {
      "text/plain": [
       "array([25, 49, 38, 94, 49, 56, 15, 74, 78, 15, 42, 74, 81, 52, 76, 22, 39,\n",
       "       38, 21, 34, 28, 99, 20, 62, 33, 11, 94, 17, 15, 52, 68,  6, 66, 89,\n",
       "       26, 34, 40, 37, 74, 46, 49, 57, 56, 98, 94, 36, 57, 40, 18, 94, 34,\n",
       "       80, 72, 48, 90, 21, 92, 81, 18, 71,  8, 33, 25, 39, 65, 68, 90, 60,\n",
       "       79, 77, 21,  1, 26,  8, 87,  3, 54, 93, 30, 86, 13, 50, 13, 33, 72,\n",
       "       41, 80, 84, 66, 22, 97, 42, 47, 61,  8, 93, 82, 64, 71, 77, 41, 81,\n",
       "       20, 79, 97,  6, 29, 96, 96, 63, 26, 67, 37, 79, 80, 35, 14, 78, 86,\n",
       "       11, 12, 73, 17, 93, 97, 35, 67, 32, 75, 38, 11, 21, 54,  9, 33, 28,\n",
       "       69, 95, 44, 86, 96, 46, 34, 35, 95, 97,  1,  2, 53, 80, 28, 19,  8,\n",
       "       44, 52,  9, 17, 28, 32, 78, 52, 71, 13, 75, 33, 50, 19, 19, 77, 16,\n",
       "       41, 87, 13, 29, 75,  2, 40,  2, 27, 79, 89, 45, 97, 80, 89, 28, 89,\n",
       "       52,  4, 58, 40, 76, 54, 21,  6, 72, 88, 20, 68, 73, 79,  6, 51, 28,\n",
       "       51,  2, 49, 54,  9, 10, 89, 12, 63, 67, 20, 26, 39,  9, 48, 68, 11,\n",
       "       67, 69, 56,  8, 24, 64, 27, 28, 88, 95, 14, 23, 70, 89,  9, 59, 51,\n",
       "       54, 89, 93, 31, 44, 91, 71, 94, 17, 88, 88, 41, 74, 27, 19, 60, 57,\n",
       "       76, 31, 12, 51, 71, 42, 75, 60, 13,  8, 62, 30, 11, 14, 35, 24, 93,\n",
       "       83, 69, 74, 91, 97,  7, 17, 33, 80, 46, 29, 68, 80, 80, 65,  1, 77,\n",
       "       94, 97, 23, 86, 35, 97, 66, 77, 26, 76, 75, 97, 69, 42, 54, 70, 57,\n",
       "       83, 26, 46, 38, 47, 48, 87, 89, 74, 47, 97, 43, 48, 68, 73, 36, 15,\n",
       "        4, 89, 41, 19, 42, 96, 83, 60, 58, 28, 24, 62, 80, 42, 43, 44, 70,\n",
       "       98, 45, 67, 60, 27, 43, 12, 47, 91,  3, 61, 81, 90, 11, 86, 15, 85,\n",
       "       67, 18, 14, 89, 91, 34, 34, 61, 63, 48, 75, 83, 74, 80,  6, 16, 72,\n",
       "       58, 57, 54, 95, 96, 56, 41, 91, 86, 64, 92, 25, 93, 12, 89,  4, 59,\n",
       "       21, 29, 48, 76, 43, 57, 26, 85, 75, 66, 99, 78, 12, 82, 14, 75, 12,\n",
       "       99, 80, 27, 93, 72, 30, 42, 67, 95, 96, 95, 20, 37, 33, 44, 83, 25,\n",
       "       20, 97, 94, 72,  1, 93, 59, 29,  9, 53, 64, 62, 13, 23, 22, 56, 30,\n",
       "       47, 28, 72, 37, 21, 45, 72, 35, 80, 23, 76, 92, 72, 29, 81, 36, 19,\n",
       "       30,  4, 10, 63, 79, 31, 88, 58, 60, 13, 78, 55, 64, 33, 68, 36, 92,\n",
       "       48, 35, 59, 50, 97, 90, 41, 81,  6, 20, 57, 66, 20, 40, 12, 27,  1,\n",
       "       33, 86, 73, 90, 68, 10, 24])"
      ]
     },
     "execution_count": 37,
     "metadata": {},
     "output_type": "execute_result"
    }
   ],
   "source": [
    "randint(1,100,500)"
   ]
  },
  {
   "cell_type": "code",
   "execution_count": 38,
   "id": "e36a4966",
   "metadata": {},
   "outputs": [],
   "source": [
    "arr = arange(25)"
   ]
  },
  {
   "cell_type": "code",
   "execution_count": 39,
   "id": "a58bb5c4",
   "metadata": {},
   "outputs": [
    {
     "data": {
      "text/plain": [
       "array([ 0,  1,  2,  3,  4,  5,  6,  7,  8,  9, 10, 11, 12, 13, 14, 15, 16,\n",
       "       17, 18, 19, 20, 21, 22, 23, 24])"
      ]
     },
     "execution_count": 39,
     "metadata": {},
     "output_type": "execute_result"
    }
   ],
   "source": [
    "arr"
   ]
  },
  {
   "cell_type": "code",
   "execution_count": 40,
   "id": "5b2d4016",
   "metadata": {},
   "outputs": [],
   "source": [
    "ranarr = randint(0,50,10)"
   ]
  },
  {
   "cell_type": "code",
   "execution_count": 41,
   "id": "9125aad9",
   "metadata": {},
   "outputs": [
    {
     "data": {
      "text/plain": [
       "array([21, 24, 26, 39,  3, 31, 43, 34, 33, 44])"
      ]
     },
     "execution_count": 41,
     "metadata": {},
     "output_type": "execute_result"
    }
   ],
   "source": [
    "ranarr"
   ]
  },
  {
   "cell_type": "code",
   "execution_count": 42,
   "id": "ece2111a",
   "metadata": {},
   "outputs": [
    {
     "data": {
      "text/plain": [
       "array([[ 0,  1,  2,  3,  4],\n",
       "       [ 5,  6,  7,  8,  9],\n",
       "       [10, 11, 12, 13, 14],\n",
       "       [15, 16, 17, 18, 19],\n",
       "       [20, 21, 22, 23, 24]])"
      ]
     },
     "execution_count": 42,
     "metadata": {},
     "output_type": "execute_result"
    }
   ],
   "source": [
    "arr.reshape(5,5)"
   ]
  },
  {
   "cell_type": "code",
   "execution_count": 43,
   "id": "b6637ed8",
   "metadata": {},
   "outputs": [
    {
     "data": {
      "text/plain": [
       "array([21, 24, 26, 39,  3, 31, 43, 34, 33, 44])"
      ]
     },
     "execution_count": 43,
     "metadata": {},
     "output_type": "execute_result"
    }
   ],
   "source": [
    "ranarr"
   ]
  },
  {
   "cell_type": "code",
   "execution_count": 44,
   "id": "11d6be44",
   "metadata": {},
   "outputs": [
    {
     "data": {
      "text/plain": [
       "44"
      ]
     },
     "execution_count": 44,
     "metadata": {},
     "output_type": "execute_result"
    }
   ],
   "source": [
    "ranarr.max()"
   ]
  },
  {
   "cell_type": "code",
   "execution_count": 46,
   "id": "f6ddb6d4",
   "metadata": {},
   "outputs": [
    {
     "data": {
      "text/plain": [
       "3"
      ]
     },
     "execution_count": 46,
     "metadata": {},
     "output_type": "execute_result"
    }
   ],
   "source": [
    "ranarr.min()"
   ]
  },
  {
   "cell_type": "code",
   "execution_count": 47,
   "id": "87bc383e",
   "metadata": {},
   "outputs": [
    {
     "data": {
      "text/plain": [
       "4"
      ]
     },
     "execution_count": 47,
     "metadata": {},
     "output_type": "execute_result"
    }
   ],
   "source": [
    "ranarr.argmin()"
   ]
  },
  {
   "cell_type": "code",
   "execution_count": 48,
   "id": "2b8e7729",
   "metadata": {},
   "outputs": [
    {
     "data": {
      "text/plain": [
       "4"
      ]
     },
     "execution_count": 48,
     "metadata": {},
     "output_type": "execute_result"
    }
   ],
   "source": [
    "ranarr.argmin()"
   ]
  },
  {
   "cell_type": "code",
   "execution_count": 50,
   "id": "36f536d0",
   "metadata": {},
   "outputs": [
    {
     "data": {
      "text/plain": [
       "(25,)"
      ]
     },
     "execution_count": 50,
     "metadata": {},
     "output_type": "execute_result"
    }
   ],
   "source": [
    "arr.shape"
   ]
  },
  {
   "cell_type": "code",
   "execution_count": 51,
   "id": "12d16a34",
   "metadata": {},
   "outputs": [
    {
     "data": {
      "text/plain": [
       "dtype('int32')"
      ]
     },
     "execution_count": 51,
     "metadata": {},
     "output_type": "execute_result"
    }
   ],
   "source": [
    "arr.dtype"
   ]
  },
  {
   "cell_type": "code",
   "execution_count": null,
   "id": "04da0d4b",
   "metadata": {},
   "outputs": [],
   "source": []
  }
 ],
 "metadata": {
  "kernelspec": {
   "display_name": "Python 3 (ipykernel)",
   "language": "python",
   "name": "python3"
  },
  "language_info": {
   "codemirror_mode": {
    "name": "ipython",
    "version": 3
   },
   "file_extension": ".py",
   "mimetype": "text/x-python",
   "name": "python",
   "nbconvert_exporter": "python",
   "pygments_lexer": "ipython3",
   "version": "3.9.12"
  }
 },
 "nbformat": 4,
 "nbformat_minor": 5
}
